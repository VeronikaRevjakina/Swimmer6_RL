{
 "cells": [
  {
   "cell_type": "code",
   "execution_count": 69,
   "metadata": {},
   "outputs": [],
   "source": [
    "from dm_control import suite\n",
    "import tensorflow as tf\n",
    "from tensorflow import keras\n",
    "from tensorflow.keras import layers\n",
    "from tensorflow.keras.models import clone_model\n",
    "import random\n",
    "import time\n",
    "import numpy as np\n",
    "from matplotlib import pyplot as plt"
   ]
  },
  {
   "cell_type": "code",
   "execution_count": 70,
   "metadata": {},
   "outputs": [
    {
     "name": "stdout",
     "output_type": "stream",
     "text": [
      "2.2.0\n"
     ]
    }
   ],
   "source": [
    "print(tf.__version__)"
   ]
  },
  {
   "cell_type": "code",
   "execution_count": 71,
   "metadata": {},
   "outputs": [],
   "source": [
    "# Swimmer6 snake , task: get to the goal \n",
    "# env = suite.load(domain_name=\"cartpole\", task_name=\"swingup\")\n",
    "env = suite.load(domain_name=\"cartpole\", task_name=\"balance\")"
   ]
  },
  {
   "cell_type": "code",
   "execution_count": 72,
   "metadata": {},
   "outputs": [],
   "source": [
    "def save_models(agent):\n",
    "    agent.critic_model.save('Car/critic_model.h5')\n",
    "    agent.actor_model.save('Car/actor_model.h5')\n",
    "    agent.target_critic_model.save('Car/target_critic_model.h5')\n",
    "    agent.target_actor_model.save('Car/target_actor_model.h5')\n",
    "    \n",
    "def save_scores(scores,last_rewards,first_rewards):\n",
    "    np.savetxt('Car/scores.csv', scores)\n",
    "    np.savetxt('Car/last_rewards.csv', last_rewards)\n",
    "    np.savetxt('Car/first_rewards.csv', first_rewards) "
   ]
  },
  {
   "cell_type": "code",
   "execution_count": 73,
   "metadata": {},
   "outputs": [
    {
     "name": "stdout",
     "output_type": "stream",
     "text": [
      "OrderedDict([('position', Array(shape=(3,), dtype=dtype('float64'), name='position')), ('velocity', Array(shape=(2,), dtype=dtype('float64'), name='velocity'))])\n"
     ]
    }
   ],
   "source": [
    "print(env.observation_spec())"
   ]
  },
  {
   "cell_type": "code",
   "execution_count": 74,
   "metadata": {},
   "outputs": [],
   "source": [
    "# to change all layers to have dtype float64 by default\n",
    "tf.keras.backend.set_floatx('float32')"
   ]
  },
  {
   "cell_type": "code",
   "execution_count": 75,
   "metadata": {},
   "outputs": [],
   "source": [
    "def convert_state(obs):\n",
    "#     obs = np.hstack(\n",
    "#         [obs['joints'], obs['to_target'], obs['body_velocities']]\n",
    "#     ).reshape((1,25))  # all of the components: joints, to_target, body_velocities sum up to 25\n",
    "#     return np.reshape(obs, (1, 25))\n",
    "    list1 = [i.tolist() for i in list(obs.values())]\n",
    "    list2 = np.array([])\n",
    "    for sublist in list1:\n",
    "        list2 = np.append(list2, sublist)\n",
    "    return np.reshape(list2, (1,5))"
   ]
  },
  {
   "cell_type": "code",
   "execution_count": 77,
   "metadata": {},
   "outputs": [],
   "source": [
    "class DDPG(object):\n",
    "    \n",
    "    def __init__(self, state_dim, action_spec, discount_rate,tau, batch_size):\n",
    "        self.action_spec = action_spec\n",
    "        self.state_dim = state_dim\n",
    "        self.action_dim = self.action_spec.shape[0]\n",
    "        self.action_min = self.action_spec.minimum\n",
    "        self.action_max = self.action_spec.maximum\n",
    "        self.actor_opt = tf.optimizers.Adam(1e-3)   \n",
    "        self.discount_rate = discount_rate\n",
    "        self.batch_size = batch_size\n",
    "        self.noise_scale = 1.0\n",
    "        self.tau = tau\n",
    "        \n",
    "        self.memory = {\n",
    "            \"state\":np.array([]), \n",
    "            \"action\":np.array([], dtype = int), \n",
    "            \"reward\":np.array([]),\n",
    "            \"new_state\":np.array([]), \n",
    "            \"done\":np.array([])\n",
    "            }\n",
    "\n",
    "        # Actor Network\n",
    "        self.actor_model = self.create_actor_model()\n",
    "\n",
    "        #Create target actor as clone of actor\n",
    "        self.target_actor_model = clone_model(self.actor_model)\n",
    "        self.target_actor_model.compile(optimizer='sgd', loss='mse')\n",
    "               \n",
    "        # Critic Network\n",
    "        self.critic_model = self.create_critic_model()\n",
    "        \n",
    "        #Create target critic as clone of critic\n",
    "        self.target_critic_model = clone_model(self.critic_model)\n",
    "        self.target_critic_model.compile(optimizer='sgd', loss='mse')\n",
    "        \n",
    "\n",
    "    def create_actor_model(self):\n",
    "        #Create actor\n",
    "        actor_model = tf.keras.Sequential([\n",
    "        # Add 400 layer with relu on observations input\n",
    "        layers.Dense(400, activation='relu', input_shape=(self.state_dim,)),\n",
    "        # Add 300 hidden layer\n",
    "        layers.Dense(300, activation='relu'),\n",
    "        # Add output action layer with tanh as need 5 size array with -1 to 1 values\n",
    "        layers.Dense(self.action_dim, activation='tanh')])\n",
    "\n",
    "        # config the model with losses and metrics\n",
    "        actor_model.compile(optimizer=tf.keras.optimizers.Adam(1e-3), loss='mse')\n",
    "        return actor_model\n",
    "    \n",
    "    def create_critic_model(self):\n",
    "        #Create critic \n",
    "        #Add inputs observations and actions\n",
    "        action_input = tf.keras.Input(shape=(self.action_dim,), name='action')\n",
    "        observation_input = tf.keras.Input(shape=self.state_dim, name='state')\n",
    "        flattened_observation = layers.Flatten()(observation_input)\n",
    "        #Add layer on observation input only\n",
    "        l=layers.Dense(400, activation='relu', input_shape=(self.state_dim,))(flattened_observation)\n",
    "        #Later add actions\n",
    "        l=layers.Concatenate()([l, action_input])\n",
    "        l=layers.Dense(300, activation='relu')(l)\n",
    "        #Output q value\n",
    "        l=layers.Dense(1, activation='linear')(l)\n",
    "        critic_model = tf.keras.Model(inputs=[action_input, observation_input], outputs=l)\n",
    "\n",
    "        # config the model with losses and metrics\n",
    "        critic_model.compile(optimizer=tf.keras.optimizers.Adam(1e-3), loss='mse')\n",
    "        return critic_model\n",
    "    \n",
    "    def get_action_with_noise(self, obs):\n",
    "        #Make action based on determenistic trained policy, but add Gaussian noise to explore env\n",
    "        action = self.actor_model.predict(obs)[0]\n",
    "        action = action + self.noise_scale*np.random.normal(0,1,size = self.action_dim)\n",
    "        action = np.clip(action, -1.0, 1.0)  # between action values\n",
    "        return action\n",
    "    \n",
    "    def update_buffer(self, obs, new_obs, action, reward, done):\n",
    "        if len(self.memory[\"state\"])>0:\n",
    "            if self.memory[\"done\"].shape[0]>1000000:\n",
    "                for key in self.memory.keys():\n",
    "                    self.memory[key] = self.memory[key][-900000:] #leave only part of buffer\n",
    "            self.memory[\"state\"] = np.vstack((self.memory[\"state\"], np.array(obs)))\n",
    "            self.memory[\"new_state\"] = np.vstack((self.memory[\"new_state\"], np.array(new_obs)))\n",
    "            self.memory[\"action\"] = np.vstack((self.memory[\"action\"], action))\n",
    "        else: \n",
    "            # if not initialized new\n",
    "            self.memory[\"state\"] = np.array(obs)\n",
    "            self.memory[\"new_state\"] = np.array(new_obs)\n",
    "            self.memory[\"action\"] = np.array(action)\n",
    "        self.memory[\"reward\"] = np.append(self.memory[\"reward\"], reward)  # not cleaning, always not empty\n",
    "        self.memory[\"done\"] = np.append(self.memory[\"done\"], done)\n",
    "        \n",
    "#     @tf.function  \n",
    "    def ddpg_batch_update(self):\n",
    "        if self.memory[\"done\"].shape[0]>=self.batch_size: #there is enough for sampling\n",
    "            indexes = random.sample(range(0, self.memory[\"done\"].shape[0]), self.batch_size)\n",
    "            batch = {\n",
    "                    \"state\": np.squeeze(self.memory[\"state\"][indexes]), \n",
    "                    \"action\": np.squeeze(self.memory[\"action\"][indexes]), \n",
    "                    \"reward\": self.memory[\"reward\"][indexes], \n",
    "                    \"new_state\": np.squeeze(self.memory[\"new_state\"][indexes]), \n",
    "                    \"done\": self.memory[\"done\"][indexes]\n",
    "                    }\n",
    "            \n",
    "            # Q' in DDPG pseudocode to count target critic value using only target networks,\n",
    "            #based on new state choose action by target actor deterministic \n",
    "            #and count q value based on new state and chosen action by target critic \n",
    "            target_q = self.target_critic_model({\"state\":batch[\"new_state\"], \n",
    "                                            \"action\": self.target_actor_model(batch[\"new_state\"])})\n",
    "            # y_i in DDPG  , target value to count MSE: ri+ discount_rate*Q_target \n",
    "            # if done do not add future reward, so added  *(1-batch[\"done\"])\n",
    "            y = batch[\"reward\"].reshape(self.batch_size,1) + \\\n",
    "                (self.discount_rate*(1-batch[\"done\"])).reshape(self.batch_size,1)*target_q\n",
    "           \n",
    "            # update critic by minimizing MSE loss between y and usual critic, actor output\n",
    "            self.critic_model.train_on_batch({\"state\": batch[\"state\"], \"action\": batch[\"action\"]}, y)\n",
    "\n",
    "            # update actor policy using sampled gradient\n",
    "            with tf.GradientTape() as tape:\n",
    "                q = self.critic_model({\"state\": batch[\"state\"], #q vector from critic\n",
    "                                       \"action\": self.actor_model(batch[\"state\"])})  # get action from actor \n",
    "                actor_loss = - tf.reduce_mean(q) # 1 value =mean q value across all q vector values, ignore structure\n",
    "            # compute gradients (loss, variables)\n",
    "            actor_grads = tape.gradient(actor_loss, self.actor_model.trainable_weights)\n",
    "            # update optimizer applying counted gradients\n",
    "            self.actor_opt.apply_gradients(zip(actor_grads, self.actor_model.trainable_weights))\n",
    "            #self.actor_opt.minimize(actor_loss, self.actor_model.trainable_weights)\n",
    "\n",
    "            # update target networks target=tau*net + (1-tau)*target\n",
    "            self.target_critic_model.set_weights((1.0-self.tau) * np.array(self.target_critic_model.get_weights()) + \\\n",
    "                                          self.tau*np.array(self.critic_model.get_weights()))\n",
    "            self.target_actor_model.set_weights((1.0-self.tau) * np.array(self.target_actor_model.get_weights()) + \\\n",
    "                                         self.tau*np.array(self.actor_model.get_weights()))\n",
    "            \n",
    "            self.noise_scale*=0.99  # lower noise as exploration/exploitation\n",
    "    "
   ]
  },
  {
   "cell_type": "code",
   "execution_count": 78,
   "metadata": {},
   "outputs": [],
   "source": [
    "action_spec = env.action_spec()\n",
    "action_dim = action_spec.shape[0]\n",
    "action_low=action_spec.minimum  # [-1. -1. -1. -1. -1.]\n",
    "action_high=action_spec.maximum  # [1. 1. 1. 1. 1.]\n",
    "state_dim = 5 # np.hstack all of the components: joints, to_target, body_velocities\n",
    "# agent = DDPG(state_dim, action_spec,0.99,0.01, 64)"
   ]
  },
  {
   "cell_type": "code",
   "execution_count": 79,
   "metadata": {},
   "outputs": [],
   "source": [
    "def train_model(env, num_games, state_dim, action_spec):\n",
    "    #initalize empty\n",
    "    scores = np.array([])\n",
    "    last_rewards = np.array([])\n",
    "    first_rewards = np.array([])\n",
    "    action_spec = env.action_spec()\n",
    "    \n",
    "    # initialize with network models + target and empty memory\n",
    "    agent = DDPG(state_dim, action_spec, 0.99,0.01, 64)\n",
    "    start = time.time()\n",
    "\n",
    "    for game in range(1, num_games+1):       \n",
    "        if (game % 25) == 0:  # after each ... iterarion number store data\n",
    "            #temporary save all 4 models if disconnected helpful\n",
    "            save_models(agent)\n",
    "            save_scores(scores,last_rewards,first_rewards)       \n",
    "            print(f\"{num_games-game} number games left\")\n",
    "            print(f\"{(time.time()-start)/60} minutes taken\")\n",
    "            \n",
    "        #just plot for demo     \n",
    "        if (game % 25) == 0:\n",
    "            x=list(range(len(scores)))\n",
    "            plt.plot(x, scores)\n",
    "            plt.xlabel(\"Iteration number\")\n",
    "            plt.ylabel(\"Reward\")\n",
    "            plt.show()\n",
    "\n",
    "        time_step = env.reset()  # reset env once in game\n",
    "        obs = convert_state(time_step.observation) # to np array based on env obs \n",
    "\n",
    "        game_score = 0\n",
    "        #for iterations in game, fixed 1000 for env, automatically returns last\n",
    "        while not time_step.last():       \n",
    "            # get action with added noise\n",
    "            action = agent.get_action_with_noise(obs)\n",
    "            # make action \n",
    "            time_step = env.step(action)\n",
    "            #convert got from env obs\n",
    "            new_obs = convert_state(time_step.observation)            \n",
    "            # update info\n",
    "            game_score += time_step.reward \n",
    "            #last is done flag\n",
    "            agent.update_buffer(obs, new_obs, action, time_step.reward, 0)\n",
    "            obs = new_obs\n",
    "            # update networks weights\n",
    "            agent.ddpg_batch_update()\n",
    "            #store info if memory full then will clean first rewards, need for stats\n",
    "            if len(first_rewards)==len(last_rewards):\n",
    "                first_rewards = np.append(first_rewards, time_step.reward)\n",
    "        #gane ended, store last step\n",
    "        new_obs = convert_state(time_step.observation)   \n",
    "        # done flag =1\n",
    "        agent.update_buffer(obs, new_obs, action, time_step.reward, 1)\n",
    "        # update networks weights\n",
    "        agent.ddpg_batch_update()\n",
    "        #last reward added\n",
    "        game_score += time_step.reward \n",
    "        \n",
    "        #across all games scores array\n",
    "        scores = np.append(scores, game_score)\n",
    "        last_rewards = np.append(last_rewards, time_step.reward)\n",
    "        #after each game\n",
    "        print(f\"Iteration: {game};   game reward: {game_score}; last timestemp reward: {time_step.reward}; previous timestamp reward: {first_rewards[-1]}\")\n",
    "    \n",
    "    #after all games complete save trained networks\n",
    "    save_models(agent)\n",
    "    save_scores(scores,last_rewards,first_rewards)\n",
    "    return agent, scores, last_rewards, first_rewards"
   ]
  },
  {
   "cell_type": "code",
   "execution_count": 80,
   "metadata": {},
   "outputs": [
    {
     "name": "stdout",
     "output_type": "stream",
     "text": [
      "Iteration: 1;   game reward: 190.151954293889; last timestemp reward: 0.15774560534972365; previous timestamp reward: 0.9907467736744152\n",
      "Iteration: 2;   game reward: 203.09466941354654; last timestemp reward: 0.13301257544459497; previous timestamp reward: 0.9998310511765263\n",
      "Iteration: 3;   game reward: 195.15786742220533; last timestemp reward: 0.1796567520705745; previous timestamp reward: 0.9928230280617559\n",
      "Iteration: 4;   game reward: 391.42400195571844; last timestemp reward: 0.0006618176617423887; previous timestamp reward: 0.997506686750389\n",
      "Iteration: 5;   game reward: 282.2813232505949; last timestemp reward: 0.12038713745263675; previous timestamp reward: 0.9917297574443725\n",
      "Iteration: 6;   game reward: 275.68608063884653; last timestemp reward: 0.19506568141317696; previous timestamp reward: 0.9981170857443251\n",
      "Iteration: 7;   game reward: 219.51506224022873; last timestemp reward: 0.0786073693510083; previous timestamp reward: 0.9860005479872804\n",
      "Iteration: 8;   game reward: 311.51030621060704; last timestemp reward: 0.3615003292092976; previous timestamp reward: 0.9892188147333617\n",
      "Iteration: 9;   game reward: 336.57635143014073; last timestemp reward: 0.23994888969905076; previous timestamp reward: 0.9991172674227696\n",
      "Iteration: 10;   game reward: 266.69532705166233; last timestemp reward: 0.2261397027772246; previous timestamp reward: 0.958293609317356\n",
      "Iteration: 11;   game reward: 507.2844768588127; last timestemp reward: 0.40211987185389164; previous timestamp reward: 0.9965894531230773\n",
      "Iteration: 12;   game reward: 410.28727903339205; last timestemp reward: 0.17892998238765853; previous timestamp reward: 0.9983013468686124\n",
      "Iteration: 13;   game reward: 538.6832792549891; last timestemp reward: 0.1364506903727019; previous timestamp reward: 0.9998272725915205\n",
      "Iteration: 14;   game reward: 443.3852740508861; last timestemp reward: 0.3253008439995092; previous timestamp reward: 0.9982503307365768\n",
      "Iteration: 15;   game reward: 437.5515944401888; last timestemp reward: 0.07608865289631525; previous timestamp reward: 0.9974988562031943\n",
      "Iteration: 16;   game reward: 366.44974252851927; last timestemp reward: 0.3468491482372705; previous timestamp reward: 0.9968438929497433\n",
      "Iteration: 17;   game reward: 328.73992601319196; last timestemp reward: 0.22981457669112879; previous timestamp reward: 0.9986698786331761\n",
      "Iteration: 18;   game reward: 410.4199883884057; last timestemp reward: 0.23425331900196755; previous timestamp reward: 0.9990710952791716\n",
      "Iteration: 19;   game reward: 373.94848963367525; last timestemp reward: 0.3118012699403342; previous timestamp reward: 0.9989627907274917\n",
      "Iteration: 20;   game reward: 379.6066349716624; last timestemp reward: 0.04590866115313564; previous timestamp reward: 0.9968239128178684\n",
      "Iteration: 21;   game reward: 531.0249213403919; last timestemp reward: 0.4081379096740791; previous timestamp reward: 0.9970484596525457\n",
      "Iteration: 22;   game reward: 549.71116185085; last timestemp reward: 0.0003683697861668427; previous timestamp reward: 0.9905400170021719\n",
      "Iteration: 23;   game reward: 945.1596259145293; last timestemp reward: 0.9949231608941635; previous timestamp reward: 0.9997060647538349\n",
      "Iteration: 24;   game reward: 888.5489596830149; last timestemp reward: 0.6392510308199845; previous timestamp reward: 0.8002978219069975\n",
      "25 number games left\n",
      "27.36715809106827 minutes taken\n"
     ]
    },
    {
     "data": {
      "image/png": "[encoded data removed]",
      "text/plain": [
       "<Figure size 432x288 with 1 Axes>"
      ]
     },
     "metadata": {
      "needs_background": "light"
     },
     "output_type": "display_data"
    },
    {
     "name": "stdout",
     "output_type": "stream",
     "text": [
      "Iteration: 25;   game reward: 895.9101766164126; last timestemp reward: 0.9809182123300487; previous timestamp reward: 0.9963708270303643\n",
      "Iteration: 26;   game reward: 970.4011696819458; last timestemp reward: 0.9769837013489188; previous timestamp reward: 0.9875175294721756\n",
      "Iteration: 27;   game reward: 942.1353452719433; last timestemp reward: 0.9348505474653506; previous timestamp reward: 0.9981128210542887\n",
      "Iteration: 28;   game reward: 951.9785135848591; last timestemp reward: 0.8511501135216945; previous timestamp reward: 0.9994435043562828\n",
      "Iteration: 29;   game reward: 887.507890223658; last timestemp reward: 0.7923903982517723; previous timestamp reward: 0.9948771399318181\n",
      "Iteration: 30;   game reward: 329.42057043827396; last timestemp reward: 0.10303795303862044; previous timestamp reward: 0.9943427602578754\n",
      "Iteration: 31;   game reward: 961.7702840328527; last timestemp reward: 0.962118720613087; previous timestamp reward: 0.9977494828672318\n",
      "Iteration: 32;   game reward: 963.0261929460967; last timestemp reward: 0.9050407499051777; previous timestamp reward: 0.9947149702572367\n",
      "Iteration: 33;   game reward: 719.0001728306495; last timestemp reward: 0.14506024594344738; previous timestamp reward: 0.7996945422402356\n",
      "Iteration: 34;   game reward: 973.2580157997761; last timestemp reward: 0.9883801231421008; previous timestamp reward: 0.8573072456847545\n",
      "Iteration: 35;   game reward: 381.9977551420727; last timestemp reward: 0.014692825018036168; previous timestamp reward: 0.9477622758845505\n",
      "Iteration: 36;   game reward: 440.1524406441078; last timestemp reward: 0.0011901010500461608; previous timestamp reward: 0.867005272299651\n",
      "Iteration: 37;   game reward: 350.4414306906594; last timestemp reward: 0.029054537981345805; previous timestamp reward: 0.9477278320125377\n",
      "Iteration: 38;   game reward: 474.1876848740277; last timestemp reward: 0.22633019270778007; previous timestamp reward: 0.9496580964471866\n",
      "Iteration: 39;   game reward: 533.1237522204649; last timestemp reward: 0.1372496195093049; previous timestamp reward: 0.9633949795375787\n",
      "Iteration: 40;   game reward: 455.1066439255547; last timestemp reward: 0.11928167983002198; previous timestamp reward: 0.8390223534275305\n",
      "Iteration: 41;   game reward: 795.7354561072796; last timestemp reward: 0.2008294906989612; previous timestamp reward: 0.9940502163897299\n",
      "Iteration: 42;   game reward: 439.54548472665863; last timestemp reward: 0.20271647469562723; previous timestamp reward: 0.9813819037753495\n",
      "Iteration: 43;   game reward: 390.88635681284626; last timestemp reward: 0.1857610936525608; previous timestamp reward: 0.9506455646031354\n",
      "Iteration: 44;   game reward: 609.5446740139629; last timestemp reward: 0.7257471543557532; previous timestamp reward: 0.9325729294913078\n",
      "Iteration: 45;   game reward: 924.9693268663397; last timestemp reward: 0.8265772248493253; previous timestamp reward: 0.97264870298165\n",
      "Iteration: 46;   game reward: 898.4775171207232; last timestemp reward: 0.8177546336502566; previous timestamp reward: 0.9398851084805044\n",
      "Iteration: 47;   game reward: 897.8597426263516; last timestemp reward: 0.005687883187480008; previous timestamp reward: 0.9715295982258961\n",
      "Iteration: 48;   game reward: 633.3904389452019; last timestemp reward: 0.16292406827500192; previous timestamp reward: 0.9911861680326104\n",
      "Iteration: 49;   game reward: 809.172287774568; last timestemp reward: 0.5225996715307738; previous timestamp reward: 0.9948947932328557\n",
      "0 number games left\n",
      "57.634984441598256 minutes taken\n"
     ]
    },
    {
     "data": {
      "image/png": "[encoded data removed]",
      "text/plain": [
       "<Figure size 432x288 with 1 Axes>"
      ]
     },
     "metadata": {
      "needs_background": "light"
     },
     "output_type": "display_data"
    },
    {
     "name": "stdout",
     "output_type": "stream",
     "text": [
      "Iteration: 50;   game reward: 966.8405269523589; last timestemp reward: 0.9141103775459405; previous timestamp reward: 0.9975249271906289\n"
     ]
    }
   ],
   "source": [
    "num_games = 50\n",
    "\n",
    "agent,scores, last_rewards, first_rewards = train_model(env, num_games, state_dim, action_spec)"
   ]
  },
  {
   "cell_type": "code",
   "execution_count": 65,
   "metadata": {},
   "outputs": [],
   "source": [
    "from tensorflow.keras.models import load_model\n",
    "# target_actor_model = load_model('Swimmer6/target_actor_model.h5')\n",
    "target_actor_model = load_model('Car/target_actor_model.h5')"
   ]
  },
  {
   "cell_type": "code",
   "execution_count": 82,
   "metadata": {},
   "outputs": [
    {
     "name": "stdout",
     "output_type": "stream",
     "text": [
      "948.3544586920299\n",
      "935.3033950942477\n",
      "952.1917794584778\n",
      "934.4530032576189\n",
      "924.8576642603593\n",
      "929.0640183378031\n",
      "935.2792827781539\n",
      "933.6660300161387\n",
      "937.3095279401134\n",
      "938.3589011789763\n",
      "Average reward on test 100 games:  936.8838061013918\n"
     ]
    }
   ],
   "source": [
    "from dm_control import suite\n",
    "from dm_control import viewer\n",
    "import numpy as np\n",
    "\n",
    "env = suite.load(domain_name=\"cartpole\", task_name=\"balance\")\n",
    "action_spec = env.action_spec()\n",
    "obs_spec = env.observation_spec()\n",
    "\n",
    "test_games_num = 10\n",
    "test_scores = []\n",
    "\n",
    "for game in range(test_games_num):\n",
    "    score = 0\n",
    "    step_data = env.reset()  # get initial state \n",
    "    obs = convert_state(step_data.observation)\n",
    "    while not step_data.last():\n",
    "#         action = np.random.uniform(low=action_spec.minimum,high=action_spec.maximum,size=action_spec.shape) \n",
    "        action = agent.target_actor_model.predict(obs)\n",
    "        step_data = env.step(action[0])\n",
    "        obs = convert_state(step_data.observation)\n",
    "        score += step_data.reward\n",
    "    print(score)   \n",
    "    test_scores.append(score)\n",
    "\n",
    "print(\"Average reward on test 100 games: \", np.mean(test_scores))"
   ]
  },
  {
   "cell_type": "code",
   "execution_count": null,
   "metadata": {},
   "outputs": [],
   "source": [
    "#Viewer\n",
    "from dm_control import suite\n",
    "from dm_control import viewer\n",
    "import numpy as np\n",
    "\n",
    "# env = suite.load(domain_name=\"humanoid\", task_name=\"stand\")\n",
    "env = suite.load(domain_name=\"cartpole\", task_name=\"balance\")\n",
    "action_spec = env.action_spec()\n",
    "# print(action_spec)\n",
    "\n",
    "# Define a uniform random policy.\n",
    "def random_policy(time_step):\n",
    "#     del time_step  # Unused.\n",
    "#     print(target_actor_model.predict(convert_state(time_step)[0]))\n",
    "#     action = np.random.uniform(low=action_spec.minimum,high=action_spec.maximum,size=action_spec.shape)\n",
    "    action = agent.target_actor_model.predict(convert_state(time_step.observation))[0]\n",
    "#     print(action)\n",
    "    return action\n",
    "# time_step = env.reset()\n",
    "\n",
    "# Launch the viewer application.\n",
    "viewer.launch(env, policy=random_policy)"
   ]
  },
  {
   "cell_type": "code",
   "execution_count": null,
   "metadata": {},
   "outputs": [],
   "source": []
  },
  {
   "cell_type": "code",
   "execution_count": null,
   "metadata": {},
   "outputs": [],
   "source": []
  }
 ],
 "metadata": {
  "kernelspec": {
   "display_name": "Python 3",
   "language": "python",
   "name": "python3"
  },
  "language_info": {
   "codemirror_mode": {
    "name": "ipython",
    "version": 3
   },
   "file_extension": ".py",
   "mimetype": "text/x-python",
   "name": "python",
   "nbconvert_exporter": "python",
   "pygments_lexer": "ipython3",
   "version": "3.7.4"
  }
 },
 "nbformat": 4,
 "nbformat_minor": 2
}
